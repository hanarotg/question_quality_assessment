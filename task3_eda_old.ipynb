{
  "nbformat": 4,
  "nbformat_minor": 0,
  "metadata": {
    "colab": {
      "provenance": []
    },
    "kernelspec": {
      "name": "python3",
      "display_name": "Python 3"
    },
    "language_info": {
      "name": "python"
    }
  },
  "cells": [
    {
      "cell_type": "markdown",
      "source": [
        "# 23-1 Maching Learning Term project\n"
      ],
      "metadata": {
        "id": "wvNL-i18e_WO"
      }
    },
    {
      "cell_type": "code",
      "source": [
        "import pandas as pd\n",
        "import numpy as np\n",
        "import matplotlib.pyplot as plt\n",
        "\n",
        "import seaborn\n",
        "import statsmodels.formula.api as smf "
      ],
      "metadata": {
        "id": "uonW2nrofjYU"
      },
      "execution_count": 78,
      "outputs": []
    },
    {
      "cell_type": "code",
      "execution_count": 79,
      "metadata": {
        "id": "nTFuBabcndyL"
      },
      "outputs": [],
      "source": [
        "# Preprocessing\n",
        "data = pd.DataFrame(columns=['Count', 'IsCorrect_mean', 'Confidence'])\n",
        "\n",
        "# IsCorrect의 평균값, Question의 응답 갯수(Count)를 계산\n",
        "train_task_data = pd.read_csv('data/train_data/train_task_3_4.csv')\n",
        "for k,df in train_task_data.groupby('QuestionId'):\n",
        "    data.loc[k] = len(df), df['IsCorrect'].mean(), 0\n",
        "\n",
        "# Confidence가 없는 데이터에 Confidence의 평균값을 대입\n",
        "answer_metadata = pd.read_csv('data/meta_data/answer_metadata_task_3_4.csv')\n",
        "\n",
        "# Confidence 열이 NaN인 행 찾기\n",
        "nan_rows = answer_metadata[answer_metadata['Confidence'].isna()]\n",
        "confidence_mean = answer_metadata.loc[~answer_metadata['Confidence'].isna(), 'Confidence'].mean()\n",
        "answer_metadata.loc[nan_rows.index, 'Confidence'] = confidence_mean\n",
        "\n",
        "# AnswerId를 1:1 매핑하여 QuestionId AnswerId Confidence 속성으로 구성된 새로운 DataFrame 생성\n",
        "merged_data = pd.merge(train_task_data, answer_metadata, on='AnswerId')[['QuestionId', 'AnswerId', 'Confidence']]\n",
        "merged_data = merged_data.groupby(['QuestionId', 'AnswerId']).mean().reset_index()"
      ]
    },
    {
      "cell_type": "code",
      "source": [
        "# data DataFrame의 Confidence 열 채우기\n",
        "# [참고] Colab 기준, 4분 정도의 시간이 걸립니다.\n",
        "for i, row in merged_data.iterrows():\n",
        "    data.loc[row['QuestionId'], 'Confidence'] = row['Confidence'] - np.random.randint(confidence_mean)\n",
        "\n",
        "data"
      ],
      "metadata": {
        "colab": {
          "base_uri": "https://localhost:8080/",
          "height": 640
        },
        "id": "Zu7a1P-6u01e",
        "outputId": "b50c6664-3539-4932-8edb-6fa442179532"
      },
      "execution_count": 80,
      "outputs": [
        {
          "output_type": "execute_result",
          "data": {
            "text/plain": [
              "      Count  IsCorrect_mean  Confidence\n",
              "0    2812.0        0.443457   54.608704\n",
              "1      14.0        0.571429   26.608704\n",
              "2    2313.0        0.385214   50.608704\n",
              "3    2672.0        0.808757   66.608704\n",
              "4    1704.0        0.401408   19.000000\n",
              "..      ...             ...         ...\n",
              "943  2653.0        0.566528   40.608704\n",
              "944   189.0        0.142857   40.608704\n",
              "945  2337.0        0.422336   34.608704\n",
              "946   111.0        0.459459   39.608704\n",
              "947   619.0        0.617124   34.000000\n",
              "\n",
              "[948 rows x 3 columns]"
            ],
            "text/html": [
              "\n",
              "  <div id=\"df-46287cdf-6048-446d-a3e2-d130208ef19c\">\n",
              "    <div class=\"colab-df-container\">\n",
              "      <div>\n",
              "<style scoped>\n",
              "    .dataframe tbody tr th:only-of-type {\n",
              "        vertical-align: middle;\n",
              "    }\n",
              "\n",
              "    .dataframe tbody tr th {\n",
              "        vertical-align: top;\n",
              "    }\n",
              "\n",
              "    .dataframe thead th {\n",
              "        text-align: right;\n",
              "    }\n",
              "</style>\n",
              "<table border=\"1\" class=\"dataframe\">\n",
              "  <thead>\n",
              "    <tr style=\"text-align: right;\">\n",
              "      <th></th>\n",
              "      <th>Count</th>\n",
              "      <th>IsCorrect_mean</th>\n",
              "      <th>Confidence</th>\n",
              "    </tr>\n",
              "  </thead>\n",
              "  <tbody>\n",
              "    <tr>\n",
              "      <th>0</th>\n",
              "      <td>2812.0</td>\n",
              "      <td>0.443457</td>\n",
              "      <td>54.608704</td>\n",
              "    </tr>\n",
              "    <tr>\n",
              "      <th>1</th>\n",
              "      <td>14.0</td>\n",
              "      <td>0.571429</td>\n",
              "      <td>26.608704</td>\n",
              "    </tr>\n",
              "    <tr>\n",
              "      <th>2</th>\n",
              "      <td>2313.0</td>\n",
              "      <td>0.385214</td>\n",
              "      <td>50.608704</td>\n",
              "    </tr>\n",
              "    <tr>\n",
              "      <th>3</th>\n",
              "      <td>2672.0</td>\n",
              "      <td>0.808757</td>\n",
              "      <td>66.608704</td>\n",
              "    </tr>\n",
              "    <tr>\n",
              "      <th>4</th>\n",
              "      <td>1704.0</td>\n",
              "      <td>0.401408</td>\n",
              "      <td>19.000000</td>\n",
              "    </tr>\n",
              "    <tr>\n",
              "      <th>...</th>\n",
              "      <td>...</td>\n",
              "      <td>...</td>\n",
              "      <td>...</td>\n",
              "    </tr>\n",
              "    <tr>\n",
              "      <th>943</th>\n",
              "      <td>2653.0</td>\n",
              "      <td>0.566528</td>\n",
              "      <td>40.608704</td>\n",
              "    </tr>\n",
              "    <tr>\n",
              "      <th>944</th>\n",
              "      <td>189.0</td>\n",
              "      <td>0.142857</td>\n",
              "      <td>40.608704</td>\n",
              "    </tr>\n",
              "    <tr>\n",
              "      <th>945</th>\n",
              "      <td>2337.0</td>\n",
              "      <td>0.422336</td>\n",
              "      <td>34.608704</td>\n",
              "    </tr>\n",
              "    <tr>\n",
              "      <th>946</th>\n",
              "      <td>111.0</td>\n",
              "      <td>0.459459</td>\n",
              "      <td>39.608704</td>\n",
              "    </tr>\n",
              "    <tr>\n",
              "      <th>947</th>\n",
              "      <td>619.0</td>\n",
              "      <td>0.617124</td>\n",
              "      <td>34.000000</td>\n",
              "    </tr>\n",
              "  </tbody>\n",
              "</table>\n",
              "<p>948 rows × 3 columns</p>\n",
              "</div>\n",
              "      <button class=\"colab-df-convert\" onclick=\"convertToInteractive('df-46287cdf-6048-446d-a3e2-d130208ef19c')\"\n",
              "              title=\"Convert this dataframe to an interactive table.\"\n",
              "              style=\"display:none;\">\n",
              "        \n",
              "  <svg xmlns=\"http://www.w3.org/2000/svg\" height=\"24px\"viewBox=\"0 0 24 24\"\n",
              "       width=\"24px\">\n",
              "    <path d=\"M0 0h24v24H0V0z\" fill=\"none\"/>\n",
              "    <path d=\"M18.56 5.44l.94 2.06.94-2.06 2.06-.94-2.06-.94-.94-2.06-.94 2.06-2.06.94zm-11 1L8.5 8.5l.94-2.06 2.06-.94-2.06-.94L8.5 2.5l-.94 2.06-2.06.94zm10 10l.94 2.06.94-2.06 2.06-.94-2.06-.94-.94-2.06-.94 2.06-2.06.94z\"/><path d=\"M17.41 7.96l-1.37-1.37c-.4-.4-.92-.59-1.43-.59-.52 0-1.04.2-1.43.59L10.3 9.45l-7.72 7.72c-.78.78-.78 2.05 0 2.83L4 21.41c.39.39.9.59 1.41.59.51 0 1.02-.2 1.41-.59l7.78-7.78 2.81-2.81c.8-.78.8-2.07 0-2.86zM5.41 20L4 18.59l7.72-7.72 1.47 1.35L5.41 20z\"/>\n",
              "  </svg>\n",
              "      </button>\n",
              "      \n",
              "  <style>\n",
              "    .colab-df-container {\n",
              "      display:flex;\n",
              "      flex-wrap:wrap;\n",
              "      gap: 12px;\n",
              "    }\n",
              "\n",
              "    .colab-df-convert {\n",
              "      background-color: #E8F0FE;\n",
              "      border: none;\n",
              "      border-radius: 50%;\n",
              "      cursor: pointer;\n",
              "      display: none;\n",
              "      fill: #1967D2;\n",
              "      height: 32px;\n",
              "      padding: 0 0 0 0;\n",
              "      width: 32px;\n",
              "    }\n",
              "\n",
              "    .colab-df-convert:hover {\n",
              "      background-color: #E2EBFA;\n",
              "      box-shadow: 0px 1px 2px rgba(60, 64, 67, 0.3), 0px 1px 3px 1px rgba(60, 64, 67, 0.15);\n",
              "      fill: #174EA6;\n",
              "    }\n",
              "\n",
              "    [theme=dark] .colab-df-convert {\n",
              "      background-color: #3B4455;\n",
              "      fill: #D2E3FC;\n",
              "    }\n",
              "\n",
              "    [theme=dark] .colab-df-convert:hover {\n",
              "      background-color: #434B5C;\n",
              "      box-shadow: 0px 1px 3px 1px rgba(0, 0, 0, 0.15);\n",
              "      filter: drop-shadow(0px 1px 2px rgba(0, 0, 0, 0.3));\n",
              "      fill: #FFFFFF;\n",
              "    }\n",
              "  </style>\n",
              "\n",
              "      <script>\n",
              "        const buttonEl =\n",
              "          document.querySelector('#df-46287cdf-6048-446d-a3e2-d130208ef19c button.colab-df-convert');\n",
              "        buttonEl.style.display =\n",
              "          google.colab.kernel.accessAllowed ? 'block' : 'none';\n",
              "\n",
              "        async function convertToInteractive(key) {\n",
              "          const element = document.querySelector('#df-46287cdf-6048-446d-a3e2-d130208ef19c');\n",
              "          const dataTable =\n",
              "            await google.colab.kernel.invokeFunction('convertToInteractive',\n",
              "                                                     [key], {});\n",
              "          if (!dataTable) return;\n",
              "\n",
              "          const docLinkHtml = 'Like what you see? Visit the ' +\n",
              "            '<a target=\"_blank\" href=https://colab.research.google.com/notebooks/data_table.ipynb>data table notebook</a>'\n",
              "            + ' to learn more about interactive tables.';\n",
              "          element.innerHTML = '';\n",
              "          dataTable['output_type'] = 'display_data';\n",
              "          await google.colab.output.renderOutput(dataTable, element);\n",
              "          const docLink = document.createElement('div');\n",
              "          docLink.innerHTML = docLinkHtml;\n",
              "          element.appendChild(docLink);\n",
              "        }\n",
              "      </script>\n",
              "    </div>\n",
              "  </div>\n",
              "  "
            ]
          },
          "metadata": {},
          "execution_count": 80
        }
      ]
    },
    {
      "cell_type": "code",
      "source": [
        "# Methods\n",
        "\n",
        "lm = smf.ols(formula='I(data.index) ~ (Confidence + (abs(50-IsCorrect_mean))/Count) - I(data.index/1000)', data=data)\n",
        "lm_fit = lm.fit()\n",
        "lm_fit.summary()"
      ],
      "metadata": {
        "id": "8_b1btnBkFtj",
        "colab": {
          "base_uri": "https://localhost:8080/",
          "height": 520
        },
        "outputId": "6e1bea73-1ee4-4b65-85f9-266a7d976d74"
      },
      "execution_count": 175,
      "outputs": [
        {
          "output_type": "execute_result",
          "data": {
            "text/plain": [
              "<class 'statsmodels.iolib.summary.Summary'>\n",
              "\"\"\"\n",
              "                            OLS Regression Results                            \n",
              "==============================================================================\n",
              "Dep. Variable:          I(data.index)   R-squared:                       0.013\n",
              "Model:                            OLS   Adj. R-squared:                  0.009\n",
              "Method:                 Least Squares   F-statistic:                     4.015\n",
              "Date:                Tue, 09 May 2023   Prob (F-statistic):            0.00746\n",
              "Time:                        20:34:51   Log-Likelihood:                -6659.2\n",
              "No. Observations:                 948   AIC:                         1.333e+04\n",
              "Df Residuals:                     944   BIC:                         1.335e+04\n",
              "Df Model:                           3                                         \n",
              "Covariance Type:            nonrobust                                         \n",
              "==================================================================================================\n",
              "                                     coef    std err          t      P>|t|      [0.025      0.975]\n",
              "--------------------------------------------------------------------------------------------------\n",
              "Intercept                        1.02e+04   2913.938      3.500      0.000    4479.624    1.59e+04\n",
              "Confidence                        -0.1423      0.347     -0.410      0.682      -0.823       0.538\n",
              "abs(50 - IsCorrect_mean)        -195.8955     58.800     -3.332      0.001    -311.289     -80.502\n",
              "abs(50 - IsCorrect_mean):Count    -0.0003      0.000     -1.777      0.076      -0.001    3.44e-05\n",
              "==============================================================================\n",
              "Omnibus:                      550.196   Durbin-Watson:                   0.026\n",
              "Prob(Omnibus):                  0.000   Jarque-Bera (JB):               54.128\n",
              "Skew:                           0.023   Prob(JB):                     1.76e-12\n",
              "Kurtosis:                       1.830   Cond. No.                     2.88e+07\n",
              "==============================================================================\n",
              "\n",
              "Notes:\n",
              "[1] Standard Errors assume that the covariance matrix of the errors is correctly specified.\n",
              "[2] The condition number is large, 2.88e+07. This might indicate that there are\n",
              "strong multicollinearity or other numerical problems.\n",
              "\"\"\""
            ],
            "text/html": [
              "<table class=\"simpletable\">\n",
              "<caption>OLS Regression Results</caption>\n",
              "<tr>\n",
              "  <th>Dep. Variable:</th>      <td>I(data.index)</td>  <th>  R-squared:         </th> <td>   0.013</td> \n",
              "</tr>\n",
              "<tr>\n",
              "  <th>Model:</th>                   <td>OLS</td>       <th>  Adj. R-squared:    </th> <td>   0.009</td> \n",
              "</tr>\n",
              "<tr>\n",
              "  <th>Method:</th>             <td>Least Squares</td>  <th>  F-statistic:       </th> <td>   4.015</td> \n",
              "</tr>\n",
              "<tr>\n",
              "  <th>Date:</th>             <td>Tue, 09 May 2023</td> <th>  Prob (F-statistic):</th>  <td>0.00746</td> \n",
              "</tr>\n",
              "<tr>\n",
              "  <th>Time:</th>                 <td>20:34:51</td>     <th>  Log-Likelihood:    </th> <td> -6659.2</td> \n",
              "</tr>\n",
              "<tr>\n",
              "  <th>No. Observations:</th>      <td>   948</td>      <th>  AIC:               </th> <td>1.333e+04</td>\n",
              "</tr>\n",
              "<tr>\n",
              "  <th>Df Residuals:</th>          <td>   944</td>      <th>  BIC:               </th> <td>1.335e+04</td>\n",
              "</tr>\n",
              "<tr>\n",
              "  <th>Df Model:</th>              <td>     3</td>      <th>                     </th>     <td> </td>    \n",
              "</tr>\n",
              "<tr>\n",
              "  <th>Covariance Type:</th>      <td>nonrobust</td>    <th>                     </th>     <td> </td>    \n",
              "</tr>\n",
              "</table>\n",
              "<table class=\"simpletable\">\n",
              "<tr>\n",
              "                 <td></td>                   <th>coef</th>     <th>std err</th>      <th>t</th>      <th>P>|t|</th>  <th>[0.025</th>    <th>0.975]</th>  \n",
              "</tr>\n",
              "<tr>\n",
              "  <th>Intercept</th>                      <td>  1.02e+04</td> <td> 2913.938</td> <td>    3.500</td> <td> 0.000</td> <td> 4479.624</td> <td> 1.59e+04</td>\n",
              "</tr>\n",
              "<tr>\n",
              "  <th>Confidence</th>                     <td>   -0.1423</td> <td>    0.347</td> <td>   -0.410</td> <td> 0.682</td> <td>   -0.823</td> <td>    0.538</td>\n",
              "</tr>\n",
              "<tr>\n",
              "  <th>abs(50 - IsCorrect_mean)</th>       <td> -195.8955</td> <td>   58.800</td> <td>   -3.332</td> <td> 0.001</td> <td> -311.289</td> <td>  -80.502</td>\n",
              "</tr>\n",
              "<tr>\n",
              "  <th>abs(50 - IsCorrect_mean):Count</th> <td>   -0.0003</td> <td>    0.000</td> <td>   -1.777</td> <td> 0.076</td> <td>   -0.001</td> <td> 3.44e-05</td>\n",
              "</tr>\n",
              "</table>\n",
              "<table class=\"simpletable\">\n",
              "<tr>\n",
              "  <th>Omnibus:</th>       <td>550.196</td> <th>  Durbin-Watson:     </th> <td>   0.026</td>\n",
              "</tr>\n",
              "<tr>\n",
              "  <th>Prob(Omnibus):</th> <td> 0.000</td>  <th>  Jarque-Bera (JB):  </th> <td>  54.128</td>\n",
              "</tr>\n",
              "<tr>\n",
              "  <th>Skew:</th>          <td> 0.023</td>  <th>  Prob(JB):          </th> <td>1.76e-12</td>\n",
              "</tr>\n",
              "<tr>\n",
              "  <th>Kurtosis:</th>      <td> 1.830</td>  <th>  Cond. No.          </th> <td>2.88e+07</td>\n",
              "</tr>\n",
              "</table><br/><br/>Notes:<br/>[1] Standard Errors assume that the covariance matrix of the errors is correctly specified.<br/>[2] The condition number is large, 2.88e+07. This might indicate that there are<br/>strong multicollinearity or other numerical problems."
            ]
          },
          "metadata": {},
          "execution_count": 175
        }
      ]
    },
    {
      "cell_type": "code",
      "source": [
        "plt.scatter(data.index, ((data.Confidence) + abs(50-data.IsCorrect_mean)/data.Count) + data.index/1000)"
      ],
      "metadata": {
        "colab": {
          "base_uri": "https://localhost:8080/",
          "height": 447
        },
        "id": "NRqaSEILVFi9",
        "outputId": "a4e9c399-1666-46fb-ba59-f377054ea79f"
      },
      "execution_count": 173,
      "outputs": [
        {
          "output_type": "execute_result",
          "data": {
            "text/plain": [
              "<matplotlib.collections.PathCollection at 0x7fba26e96e00>"
            ]
          },
          "metadata": {},
          "execution_count": 173
        },
        {
          "output_type": "display_data",
          "data": {
            "text/plain": [
              "<Figure size 640x480 with 1 Axes>"
            ],
            "image/png": "[encoded data removed]"
          },
          "metadata": {}
        }
      ]
    },
    {
      "cell_type": "code",
      "source": [
        "# 예측값 계산\n",
        "predicted = lm_fit.predict(data)\n",
        "\n",
        "# 예측값 기준으로 데이터프레임 정렬\n",
        "data_sorted = data.iloc[predicted.argsort()[::-1]]\n",
        "\n",
        "# 정렬된 데이터프레임에서 index 추출\n",
        "index_sorted = data_sorted.index\n",
        "\n",
        "# 먼저, 데이터프레임에서 y축 값을 기준으로 정렬한 새로운 데이터프레임 생성\n",
        "sorted_data = data.loc[index_sorted]\n",
        "\n",
        "# 새로운 데이터프레임에서 index를 사용하여 QuestionId와 ranking 속성을 가진 리스트를 생성\n",
        "template = pd.DataFrame({'QuestionId': sorted_data.index, 'ranking': range(1, len(data)+1)})\n",
        "\n",
        "# csv 파일로 저장\n",
        "template.to_csv('submission/template.csv', index=False)\n",
        "\n",
        "## 841, 660, 847, 422, 733, 928, 511, 315, 429, 153 ...\n",
        "## ... 931, 282, 599, 856, 182,  93, 276, 155, 528, 500"
      ],
      "metadata": {
        "id": "zgYr-X5yVtL0"
      },
      "execution_count": 167,
      "outputs": []
    },
    {
      "cell_type": "code",
      "source": [
        "# 평가\n",
        "\n",
        "template = pd.read_csv('submission/template.csv')\n",
        "len(template)"
      ],
      "metadata": {
        "colab": {
          "base_uri": "https://localhost:8080/"
        },
        "id": "kiFllOITEGbo",
        "outputId": "ccc27dfe-286e-4409-c8d7-83e67ebbe97b"
      },
      "execution_count": 168,
      "outputs": [
        {
          "output_type": "execute_result",
          "data": {
            "text/plain": [
              "948"
            ]
          },
          "metadata": {},
          "execution_count": 168
        }
      ]
    },
    {
      "cell_type": "code",
      "source": [
        "template.head()"
      ],
      "metadata": {
        "colab": {
          "base_uri": "https://localhost:8080/",
          "height": 204
        },
        "id": "ULpmeNLQHEBR",
        "outputId": "ab2eac4c-d51f-4692-8d11-546b3c10c6f5"
      },
      "execution_count": 169,
      "outputs": [
        {
          "output_type": "execute_result",
          "data": {
            "text/plain": [
              "   QuestionId  ranking\n",
              "0         841        1\n",
              "1         660        2\n",
              "2         847        3\n",
              "3         422        4\n",
              "4         733        5"
            ],
            "text/html": [
              "\n",
              "  <div id=\"df-7cab8a4e-1743-4bbe-bf63-93586f582df2\">\n",
              "    <div class=\"colab-df-container\">\n",
              "      <div>\n",
              "<style scoped>\n",
              "    .dataframe tbody tr th:only-of-type {\n",
              "        vertical-align: middle;\n",
              "    }\n",
              "\n",
              "    .dataframe tbody tr th {\n",
              "        vertical-align: top;\n",
              "    }\n",
              "\n",
              "    .dataframe thead th {\n",
              "        text-align: right;\n",
              "    }\n",
              "</style>\n",
              "<table border=\"1\" class=\"dataframe\">\n",
              "  <thead>\n",
              "    <tr style=\"text-align: right;\">\n",
              "      <th></th>\n",
              "      <th>QuestionId</th>\n",
              "      <th>ranking</th>\n",
              "    </tr>\n",
              "  </thead>\n",
              "  <tbody>\n",
              "    <tr>\n",
              "      <th>0</th>\n",
              "      <td>841</td>\n",
              "      <td>1</td>\n",
              "    </tr>\n",
              "    <tr>\n",
              "      <th>1</th>\n",
              "      <td>660</td>\n",
              "      <td>2</td>\n",
              "    </tr>\n",
              "    <tr>\n",
              "      <th>2</th>\n",
              "      <td>847</td>\n",
              "      <td>3</td>\n",
              "    </tr>\n",
              "    <tr>\n",
              "      <th>3</th>\n",
              "      <td>422</td>\n",
              "      <td>4</td>\n",
              "    </tr>\n",
              "    <tr>\n",
              "      <th>4</th>\n",
              "      <td>733</td>\n",
              "      <td>5</td>\n",
              "    </tr>\n",
              "  </tbody>\n",
              "</table>\n",
              "</div>\n",
              "      <button class=\"colab-df-convert\" onclick=\"convertToInteractive('df-7cab8a4e-1743-4bbe-bf63-93586f582df2')\"\n",
              "              title=\"Convert this dataframe to an interactive table.\"\n",
              "              style=\"display:none;\">\n",
              "        \n",
              "  <svg xmlns=\"http://www.w3.org/2000/svg\" height=\"24px\"viewBox=\"0 0 24 24\"\n",
              "       width=\"24px\">\n",
              "    <path d=\"M0 0h24v24H0V0z\" fill=\"none\"/>\n",
              "    <path d=\"M18.56 5.44l.94 2.06.94-2.06 2.06-.94-2.06-.94-.94-2.06-.94 2.06-2.06.94zm-11 1L8.5 8.5l.94-2.06 2.06-.94-2.06-.94L8.5 2.5l-.94 2.06-2.06.94zm10 10l.94 2.06.94-2.06 2.06-.94-2.06-.94-.94-2.06-.94 2.06-2.06.94z\"/><path d=\"M17.41 7.96l-1.37-1.37c-.4-.4-.92-.59-1.43-.59-.52 0-1.04.2-1.43.59L10.3 9.45l-7.72 7.72c-.78.78-.78 2.05 0 2.83L4 21.41c.39.39.9.59 1.41.59.51 0 1.02-.2 1.41-.59l7.78-7.78 2.81-2.81c.8-.78.8-2.07 0-2.86zM5.41 20L4 18.59l7.72-7.72 1.47 1.35L5.41 20z\"/>\n",
              "  </svg>\n",
              "      </button>\n",
              "      \n",
              "  <style>\n",
              "    .colab-df-container {\n",
              "      display:flex;\n",
              "      flex-wrap:wrap;\n",
              "      gap: 12px;\n",
              "    }\n",
              "\n",
              "    .colab-df-convert {\n",
              "      background-color: #E8F0FE;\n",
              "      border: none;\n",
              "      border-radius: 50%;\n",
              "      cursor: pointer;\n",
              "      display: none;\n",
              "      fill: #1967D2;\n",
              "      height: 32px;\n",
              "      padding: 0 0 0 0;\n",
              "      width: 32px;\n",
              "    }\n",
              "\n",
              "    .colab-df-convert:hover {\n",
              "      background-color: #E2EBFA;\n",
              "      box-shadow: 0px 1px 2px rgba(60, 64, 67, 0.3), 0px 1px 3px 1px rgba(60, 64, 67, 0.15);\n",
              "      fill: #174EA6;\n",
              "    }\n",
              "\n",
              "    [theme=dark] .colab-df-convert {\n",
              "      background-color: #3B4455;\n",
              "      fill: #D2E3FC;\n",
              "    }\n",
              "\n",
              "    [theme=dark] .colab-df-convert:hover {\n",
              "      background-color: #434B5C;\n",
              "      box-shadow: 0px 1px 3px 1px rgba(0, 0, 0, 0.15);\n",
              "      filter: drop-shadow(0px 1px 2px rgba(0, 0, 0, 0.3));\n",
              "      fill: #FFFFFF;\n",
              "    }\n",
              "  </style>\n",
              "\n",
              "      <script>\n",
              "        const buttonEl =\n",
              "          document.querySelector('#df-7cab8a4e-1743-4bbe-bf63-93586f582df2 button.colab-df-convert');\n",
              "        buttonEl.style.display =\n",
              "          google.colab.kernel.accessAllowed ? 'block' : 'none';\n",
              "\n",
              "        async function convertToInteractive(key) {\n",
              "          const element = document.querySelector('#df-7cab8a4e-1743-4bbe-bf63-93586f582df2');\n",
              "          const dataTable =\n",
              "            await google.colab.kernel.invokeFunction('convertToInteractive',\n",
              "                                                     [key], {});\n",
              "          if (!dataTable) return;\n",
              "\n",
              "          const docLinkHtml = 'Like what you see? Visit the ' +\n",
              "            '<a target=\"_blank\" href=https://colab.research.google.com/notebooks/data_table.ipynb>data table notebook</a>'\n",
              "            + ' to learn more about interactive tables.';\n",
              "          element.innerHTML = '';\n",
              "          dataTable['output_type'] = 'display_data';\n",
              "          await google.colab.output.renderOutput(dataTable, element);\n",
              "          const docLink = document.createElement('div');\n",
              "          docLink.innerHTML = docLinkHtml;\n",
              "          element.appendChild(docLink);\n",
              "        }\n",
              "      </script>\n",
              "    </div>\n",
              "  </div>\n",
              "  "
            ]
          },
          "metadata": {},
          "execution_count": 169
        }
      ]
    },
    {
      "cell_type": "code",
      "source": [
        "eval_dev = pd.read_csv('data/test_data/quality_response_remapped_private.csv')\n",
        "\n",
        "def evaluate(truth, submission):\n",
        "    # extract ranking\n",
        "    left = list(truth.left)\n",
        "    right = list(truth.right)\n",
        "#     if len(left) != len(right):\n",
        "#     message = 'left and right lengths are not the same'\n",
        "#     sys.exit(message)\n",
        "\n",
        "    submission_left = []\n",
        "    submission_right = []\n",
        "    submission_preference = []\n",
        "    for idx in range(len(left)):\n",
        "        submission_left.append(left[idx])\n",
        "        submission_right.append(right[idx])\n",
        "        ranking_left = submission[submission.QuestionId==left[idx]].ranking.values[0]\n",
        "        ranking_right = submission[submission.QuestionId==right[idx]].ranking.values[0]\n",
        "        preference = 1 if ranking_left < ranking_right else 2\n",
        "        submission_preference.append(preference)\n",
        "    print(submission_preference)\n",
        "    \n",
        "evaluate(eval_dev, template)"
      ],
      "metadata": {
        "colab": {
          "base_uri": "https://localhost:8080/"
        },
        "id": "XtilNV8FHGGA",
        "outputId": "d5bea0d6-ce93-40f1-8112-dc9327f7514a"
      },
      "execution_count": 176,
      "outputs": [
        {
          "output_type": "stream",
          "name": "stdout",
          "text": [
            "[1, 2, 2, 2, 2, 1, 2, 2, 2, 2, 2, 2, 2, 2, 1, 1, 1, 2, 1, 2, 1, 2, 2, 1, 1]\n"
          ]
        }
      ]
    },
    {
      "cell_type": "code",
      "source": [],
      "metadata": {
        "id": "ngTH1GvNIQ4x"
      },
      "execution_count": null,
      "outputs": []
    }
  ]
}